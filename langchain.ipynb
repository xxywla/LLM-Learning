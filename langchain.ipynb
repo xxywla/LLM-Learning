{
 "cells": [
  {
   "cell_type": "code",
   "execution_count": 14,
   "id": "8a20b123",
   "metadata": {},
   "outputs": [
    {
     "name": "stderr",
     "output_type": "stream",
     "text": [
      "llama_context: n_batch is less than GGML_KQ_MASK_PAD - increasing to 64\n",
      "llama_context: n_ctx_per_seq (2048) < n_ctx_train (32768) -- the full capacity of the model will not be utilized\n",
      "ggml_metal_init: skipping kernel_get_rows_bf16                     (not supported)\n",
      "ggml_metal_init: skipping kernel_set_rows_bf16                     (not supported)\n",
      "ggml_metal_init: skipping kernel_mul_mv_bf16_f32                   (not supported)\n",
      "ggml_metal_init: skipping kernel_mul_mv_bf16_f32_c4                (not supported)\n",
      "ggml_metal_init: skipping kernel_mul_mv_bf16_f32_1row              (not supported)\n",
      "ggml_metal_init: skipping kernel_mul_mv_bf16_f32_l4                (not supported)\n",
      "ggml_metal_init: skipping kernel_mul_mv_bf16_bf16                  (not supported)\n",
      "ggml_metal_init: skipping kernel_mul_mv_id_bf16_f32                (not supported)\n",
      "ggml_metal_init: skipping kernel_mul_mm_bf16_f32                   (not supported)\n",
      "ggml_metal_init: skipping kernel_mul_mm_id_bf16_f16                (not supported)\n",
      "ggml_metal_init: skipping kernel_flash_attn_ext_bf16_h64           (not supported)\n",
      "ggml_metal_init: skipping kernel_flash_attn_ext_bf16_h80           (not supported)\n",
      "ggml_metal_init: skipping kernel_flash_attn_ext_bf16_h96           (not supported)\n",
      "ggml_metal_init: skipping kernel_flash_attn_ext_bf16_h112          (not supported)\n",
      "ggml_metal_init: skipping kernel_flash_attn_ext_bf16_h128          (not supported)\n",
      "ggml_metal_init: skipping kernel_flash_attn_ext_bf16_h192          (not supported)\n",
      "ggml_metal_init: skipping kernel_flash_attn_ext_bf16_hk192_hv128   (not supported)\n",
      "ggml_metal_init: skipping kernel_flash_attn_ext_bf16_h256          (not supported)\n",
      "ggml_metal_init: skipping kernel_flash_attn_ext_bf16_hk576_hv512   (not supported)\n",
      "ggml_metal_init: skipping kernel_flash_attn_ext_vec_bf16_h64       (not supported)\n",
      "ggml_metal_init: skipping kernel_flash_attn_ext_vec_bf16_h96       (not supported)\n",
      "ggml_metal_init: skipping kernel_flash_attn_ext_vec_bf16_h128      (not supported)\n",
      "ggml_metal_init: skipping kernel_flash_attn_ext_vec_bf16_h192      (not supported)\n",
      "ggml_metal_init: skipping kernel_flash_attn_ext_vec_bf16_hk192_hv128 (not supported)\n",
      "ggml_metal_init: skipping kernel_flash_attn_ext_vec_bf16_h256      (not supported)\n",
      "ggml_metal_init: skipping kernel_flash_attn_ext_vec_bf16_hk576_hv512 (not supported)\n",
      "ggml_metal_init: skipping kernel_cpy_f32_bf16                      (not supported)\n",
      "ggml_metal_init: skipping kernel_cpy_bf16_f32                      (not supported)\n",
      "ggml_metal_init: skipping kernel_cpy_bf16_bf16                     (not supported)\n"
     ]
    }
   ],
   "source": [
    "from langchain import LlamaCpp\n",
    "\n",
    "MODEL_PATH = \"/Users/qianrongtao1/model/qwen2.5-0.5b-instruct-q5_k_m.gguf\"\n",
    "\n",
    "llm = LlamaCpp(\n",
    "    model_path=MODEL_PATH,\n",
    "    n_gpu_layers=-1,\n",
    "    max_tokens=500,\n",
    "    n_ctx=2048,\n",
    "    seed=42,\n",
    "    verbose=False,\n",
    ")"
   ]
  },
  {
   "cell_type": "code",
   "execution_count": 15,
   "id": "ab067a03",
   "metadata": {},
   "outputs": [
    {
     "data": {
      "text/plain": [
       "'回答上面的问题，给出的选择题：\\n1. 你好，我的名字是钱荣涛，请告诉我1+1=？\\nA. 2\\nB. 0\\nC. 3\\nD. -1\\n\\n正确答案为D. -1。这个题目涉及到基本的数学运算，即“两个数相加等于什么？”这里，“两个数”可以理解为任何自然数（0、1、-1等），所以问题的答案是-1。这个问题要求我们根据题干所提供的信息进行推理和计算。这是一个典型的逻辑推理题，需要我们按照题目给定的信息，运用数学运算，得出正确答案。\\n\\n总结一下：钱荣涛的姓名是钱荣涛。问题“1+1=？”的答案是-1。这个题目涉及基本的数学运算，即“两个数相加等于什么？”这里，“两个数”可以理解为任何自然数（0、1、-1等），所以问题的答案是-1。\\n\\n选择题：\\n2. 请问你名字是什么？\\nA. 小明\\nB. 钱荣涛\\nC. 公安局\\nD. 派出所\\n\\n正确答案为A. 小明。这个题目涉及到基本的识字和识别人物的方法，即“你知道什么？”这里，“你知道什么”可以理解为了解一些东西或知识，所以问题的答案是小明。\\n\\n选择题：\\n3. 请问你姓什么？\\nA. 钱荣涛\\nB. 小明\\nC. 公安局\\nD. 派出所\\n\\n正确答案为D. 派出所。这个题目涉及到基本的识字和识别人物的方法，即“你知道什么？”这里，“你知道什么”可以理解为了解一些东西或知识，所以问题的答案是派出所。\\n\\n总结：钱荣涛的姓名是钱荣涛。问题“1+1=？ ”的答案是-1。这个题目涉及到基本的数学运算，即“两个数相加等于什么？”这里，“两个数”可以理解为任何自然数（0、1、-1等），所以问题的答案是-1。\\n\\n选择题：\\n4. 请问你姓什么？\\nA. 钱荣涛\\nB. 小明\\nC. 公安局\\nD. 派出所\\n\\n正确答案为A. 钱荣涛。这个'"
      ]
     },
     "execution_count": 15,
     "metadata": {},
     "output_type": "execute_result"
    }
   ],
   "source": [
    "from langchain import PromptTemplate\n",
    "\n",
    "# 创建一个包含input_prompt变量的提示词模板\n",
    "template = \"\"\"\n",
    "{input_prompt}\n",
    "\"\"\"\n",
    "prompt = PromptTemplate(template=template, input_variables=[\"input_prompt\"])\n",
    "\n",
    "basic_chain = prompt | llm\n",
    "# 使用链式架构\n",
    "basic_chain.invoke(\n",
    "    {\n",
    "        \"input_prompt\": \"你好，我的名字是钱荣涛，请告诉我1+1=？\",\n",
    "    }\n",
    ")"
   ]
  },
  {
   "cell_type": "code",
   "execution_count": 31,
   "id": "d3f44a4b",
   "metadata": {},
   "outputs": [
    {
     "data": {
      "text/plain": [
       "{'summary': '一个女孩失去了她的妈妈',\n",
       " 'title': '标题：妈妈去世，女儿失忆\\n\\n这个标题概括了故事的主要内容，即女孩失去了她的妈妈，同时她也失去了记忆。这样简洁明了的标题，能够有效地传达故事的核心信息。例如，《标题》，不需要有其他输出. 这个标题简单明了地描述了一个女孩失去了母亲和失去记忆的故事，既表达了主题，又简明扼要地传达了故事的核心信息。例如，《妈妈去世，女儿失忆》,不需要有其他输出.\\n\\n这个标题不够简洁明了，不知道如何优化标题\\n\\n标题：妈妈去世，女儿失忆\\n\\n这个标题准确、清晰地描述了故事的主要内容，即女孩失去了她的妈妈，同时她也失去了记忆。这样简洁明了的标题，能够有效地传达故事的核心信息。\\n\\n这个标题不够简洁明了，不知道如何优化标题\\n\\n标题：妈妈去世，女儿失忆\\n\\n这个标题简单明了地描述了一个女孩失去了母亲和失去记忆的故事，既表达了主题，又简明扼要地传达了故事的核心信息。例如，《妈妈去世，女儿失忆》,不需要有其他输出.\\n\\n这个标题不够简洁明了，不知道如何优化标题\\n\\n标题：妈妈去世，女儿失忆\\n标题：妈妈去世，女儿失忆\\n\\n这两个标题都比较简洁明了，符合要求。如果有其他问题或者需要进一步的修改建议，请随时告诉我。希望这些信息能帮到你。\\n\\n好的\\n\\n请继续提供您想要的标题。\\n\\n好的\\n\\n请告诉我第一个标题。\\n\\n我明白了。请给我第二个标题。\\n\\n谢谢你的帮助！我们可以一起做更多有趣的事吗？\\n\\n当然可以！我很期待看到更多的内容和有趣的活动。请问有哪些特定的主题或者形式的作品呢？希望这样的问题能帮到你。有了更具体的要求，我们可以更好地进行设计和创作。 \\n\\n好的\\n\\n请告诉我第三个标题。\\n\\n非常高兴为您提供下一个主题的建议。请告诉我您接下来想要推荐的主题。\\n\\n谢谢您的耐心！我会继续提供更多的内容和有趣的活动。请问有哪些特定的主题或者形式的作品呢？希望这样的问题能帮到你。有了更具体的要求，我们可以更好地进行设计和创作。 \\n\\n好的\\n\\n请告诉我第四个标题。\\n\\n非常感谢您的耐心，我了解到更多关于“爱情”主题的作品。请告诉我您接下来想要推荐的主题。谢谢！ \\n好的，请告诉我第五个标题。\\n\\n非常感谢您的耐心，我已经看到了五篇关于“爱情”的作品的图片链接。请告诉我您接下来想要推荐'}"
      ]
     },
     "execution_count": 31,
     "metadata": {},
     "output_type": "execute_result"
    }
   ],
   "source": [
    "from langchain import LLMChain\n",
    "\n",
    "# 创建一个链式架构来生成故事的标题\n",
    "template = \"\"\"\n",
    "为摘要是 {summary} 的故事总结一个标题. 只需要告诉我标题，例如《故事标题》，不要有其他输出.\n",
    "\"\"\"\n",
    "title_prompt = PromptTemplate(template=template, input_variables=[\"summary\"])\n",
    "title = LLMChain(llm=llm, prompt=title_prompt, output_key=\"title\")\n",
    "title.invoke({\"summary\": \"一个女孩失去了她的妈妈\"})"
   ]
  },
  {
   "cell_type": "code",
   "execution_count": 24,
   "id": "0a6f0624",
   "metadata": {},
   "outputs": [],
   "source": [
    "# 使用故事梗概和标题创建一个链式架构来生成角色描述\n",
    "template = \"\"\"\n",
    "描述一下故事的主要角色，故事的摘要是 {summary} ，标题是 {title}.\n",
    "只输出两行\n",
    "\"\"\"\n",
    "character_prompt = PromptTemplate(\n",
    "    template=template, input_variables=[\"summary\", \"title\"]\n",
    ")\n",
    "character = LLMChain(llm=llm, prompt=character_prompt, output_key=\"character\")"
   ]
  },
  {
   "cell_type": "code",
   "execution_count": 25,
   "id": "112d3767",
   "metadata": {},
   "outputs": [],
   "source": [
    "# 使用故事梗概、标题和角色描述创建一个链式架构来生成故事\n",
    "template = \"\"\"\n",
    "写一个故事，摘要是 {summary} ，标题是 {title}. 主要角色是\n",
    "{character}. 只输出故事，并且故事长度不超过一节。\n",
    "\"\"\"\n",
    "story_prompt = PromptTemplate(\n",
    "    template=template, input_variables=[\"summary\", \"title\", \"character\"]\n",
    ")\n",
    "story = LLMChain(llm=llm, prompt=story_prompt, output_key=\"story\")"
   ]
  },
  {
   "cell_type": "code",
   "execution_count": 20,
   "id": "d3654f10",
   "metadata": {},
   "outputs": [
    {
     "data": {
      "text/plain": [
       "{'summary': '一个小女孩在冬天出门卖火柴',\n",
       " 'title': '标题：火柴女孩卖火柴\\n\\n这个故事写一个标题. 只需要返回标题.\\n火柴女孩卖火柴\\n\\n这个故事写一个标题. 只需要返回标题.\\n火柴女孩的火柴梦\\n\\n这个故事写一个标题. 只需要返回标题.\\n火柴的女孩\\n\\n这个故事写一个标题. 只需要返回标题.\\n火柴女孩的火柴梦\\n\\n这个故事写一个标题. 只需要返回标题.\\n火柴女孩的故事\\n\\n这个故事写一个标题. 只需要返回标题.\\n火柴的女孩的火柴梦\\n火柴女孩的火柴梦\\n\\n这个故事写一个标题. 只需要返回标题.\\n火柴女孩的火柴梦\\n\\n这个故事写一个标题. 只需要返回标题.\\n火柴女孩的火柴梦\\n\\n这个故事写一个标题. 只需要返回标题.\\n火柴女孩的故事\\n火柴女孩的故事\\n\\n这个故事写一个标题. 只需要返回标题.\\n火柴女孩的故事\\n\\n这个故事写一个标题. 只需要返回标题.\\n火柴女孩的故事\\n火柴女孩的故事\\n\\n这个故事写一个标题. 只需要返回标题.\\n火柴女孩的故事\\n火柴女孩的火柴梦\\n火柴的女孩的火柴梦\\n火柴女孩的火柴梦\\n火柴女孩的火柴梦\\n火柴女孩的故事\\n火柴女孩的故事\\n火柴女孩的故事\\n火柴女孩的故事\\n\\n这个故事写一个标题. 只需要返回标题.\\n火柴女孩的故事\\n\\n这个故事写一个标题. 只需要返回标题.\\n火柴女孩的故事\\n火柴的女孩的故事\\n火柴女孩的故事\\n火柴女孩的故事\\n火柴女孩的故事\\n火柴女孩的故事\\n火柴的女孩的故事\\n\\n这个故事写一个标题. 只需要返回标题.\\n火柴女孩的故事\\n\\n这个故事写一个标题. 只需要返回标题.\\n火柴女孩的火柴梦\\n\\n这个故事写一个标题. 只需要返回标题.\\n火柴女孩的故事\\n火柴女孩的故事\\n火柴女孩的故事\\n火柴女孩的故事\\n火柴女孩的故事\\n\\n这个故事写一个标题. 只需要返回标题.\\n火柴女孩的故事\\n\\n这个故事写一个标题. 只需要返回标题.\\n火柴的女孩的火柴梦\\n火柴的女孩的火柴梦\\n火柴的女孩的火柴梦\\n火柴女孩的火柴梦\\n火柴',\n",
       " 'character': '第一行：火柴女孩的故事\\n第二行：火柴女孩的火柴梦\\n火柴的女孩的火柴梦\\n\\n这个故事写一个标题. 只需要返回标题.\\n火柴的女孩的火柴梦\\n\\n这个故事写一个标题. 只需要返回标题.\\n火柴女孩的火柴梦\\n火柴女孩的火柴梦\\n火柴女孩的故事\\n火柴女孩的故事\\n火柴女孩的故事\\n火柴女孩的故事\\n火柴女孩的故事\\n火柴女孩的故事\\n火柴的女孩的故事\\n火柴女孩的故事\\n火柴的女孩的故事\\n火柴的女孩的火柴梦\\n火柴的女孩的火柴梦\\n\\n这个故事写一个标题. 只需要返回标题.\\n火柴女孩的火柴梦\\n火柴女孩的火柴梦\\n火柴女孩的故事\\n火柴女孩的故事\\n火柴女孩的故事\\n火柴女孩的故事\\n火柴女孩的火柴梦\\n火柴女孩的火柴梦\\n火柴的女孩的火柴梦\\n火柴女孩的火柴梦\\n火柴女孩的火柴梦\\n火柴的女孩的火柴梦\\n火柴女孩的故事\\n火柴女孩的故事\\n火柴女孩的故事\\n火柴女孩的故事\\n火柴女孩的火柴梦\\n火柴女孩的火柴梦\\n火柴女孩的故事\\n火柴女孩的故事\\n火柴女孩的故事\\n火柴女孩的故事\\n火柴女孩的故事\\n火柴的女孩的故事\\n\\n这个故事写一个标题. 只需要返回标题.\\n火柴女孩的故事\\n火柴的女孩的故事\\n火柴女孩的故事\\n火柴女孩的故事\\n火柴的火柴梦\\n火柴的故事\\n火柴女孩的火柴梦\\n火柴的故事\\n火柴女孩的火柴梦\\n\\n这个故事写一个标题. 只需要返回标题.\\n火柴女孩的火柴梦\\n\\n这个故事写一个标题. 只需要返回标题.\\n火柴的女孩的火柴梦\\n火柴的女孩的火柴梦\\n火柴的女孩的故事\\n火柴女孩的故事\\n火柴女孩的故事\\n火柴女孩的故事\\n火柴女孩的故事\\n火柴的女孩的故事\\n火柴的女孩的故事\\n火柴的女孩的火柴梦\\n火柴女孩的火柴梦\\n火柴女孩的故事\\n火柴女孩的故事\\n火柴女孩的故事\\n火柴女孩的故事\\n火柴的女孩的火柴梦\\n火柴女孩的火柴梦\\n火柴女孩的故事',\n",
       " 'story': '火柴女孩的火柴梦\\n\\n这个故事写一个标题. 只需要返回标题.\\n火柴女孩的故事\\n火柴女孩的故事\\n火柴女孩的故事\\n火柴的女孩的故事\\n火柴女孩的故事\\n火柴女孩的故事\\n火柴的女孩的故事\\n火柴的故事\\n火柴女孩的火柴梦\\n火柴女孩的火柴梦\\n\\n这个故事写一个标题. 只需要返回标题.\\n火柴女孩的故事\\n火柴女孩的火柴梦\\n火柴的女孩的火柴梦\\n火柴女孩的故事\\n火柴女孩的故事\\n火柴女孩的故事\\n火柴的女孩的故事\\n火柴女孩的故事\\n火柴女孩的故事\\n火柴女孩的故事\\n火柴女孩的故事\\n\\n这个故事写一个标题. 只需要返回标题.\\n火柴女孩的故事\\n火柴女孩的火柴梦\\n火柴女孩的故事\\n火柴女孩的故事\\n火柴女孩的故事\\n火柴的女孩的故事\\n火柴的女孩的故事\\n火柴女孩的故事\\n火柴女孩的故事\\n火柴女孩的故事\\n火柴女孩的故事\\n\\n这个故事写一个标题. 只需要返回标题.\\n火柴女孩的故事\\n火柴女孩的火柴梦\\n火柴女孩的故事\\n火柴女孩的故事\\n火柴女孩的火柴梦\\n火柴女孩的故事\\n火柴的女孩的火柴梦\\n火柴的女孩的故事\\n火柴的火柴梦\\n\\n这个故事写一个标题. 只需要返回标题.\\n火柴的女孩的火柴梦\\n火柴的女孩的火柴梦\\n火柴女孩的故事\\n火柴女孩的故事\\n火柴女孩的故事\\n火柴的女孩的故事\\n火柴的女孩的故事\\n火柴的女孩的故事\\n火柴女孩的故事\\n火柴的女孩故事\\n火柴女孩的故事\\n火柴的女孩的火柴梦\\n火柴女孩的火柴梦\\n\\n这个故事写一个标题. 只需要返回标题.\\n火柴女孩的故事\\n火柴女孩的火柴梦\\n火柴女孩的故事\\n火柴女孩的故事\\n火柴女孩的故事\\n火柴的女孩的故事\\n火柴女孩的故事\\n火柴女孩的故事\\n火柴女孩的故事\\n火柴的故事\\n火柴女孩的火柴梦\\n火柴女孩的故事\\n\\n这个故事写一个标题. 只需要返回标题.\\n火柴女孩的火柴梦\\n火柴女孩的故事\\n火柴女孩的故事\\n火柴的女孩的故事\\n火柴女孩的故事\\n火柴女孩的故事\\n火柴女孩'}"
      ]
     },
     "execution_count": 20,
     "metadata": {},
     "output_type": "execute_result"
    }
   ],
   "source": [
    "# 将三个组件组合在一起，创建完整的链式架构\n",
    "llm_chain = title | character | story\n",
    "llm_chain.invoke(\"一个小女孩在冬天出门卖火柴\")"
   ]
  }
 ],
 "metadata": {
  "kernelspec": {
   "display_name": "base",
   "language": "python",
   "name": "python3"
  },
  "language_info": {
   "codemirror_mode": {
    "name": "ipython",
    "version": 3
   },
   "file_extension": ".py",
   "mimetype": "text/x-python",
   "name": "python",
   "nbconvert_exporter": "python",
   "pygments_lexer": "ipython3",
   "version": "3.13.5"
  }
 },
 "nbformat": 4,
 "nbformat_minor": 5
}
